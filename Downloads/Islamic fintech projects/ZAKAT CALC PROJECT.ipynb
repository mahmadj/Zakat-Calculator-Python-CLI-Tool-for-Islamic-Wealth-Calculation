{
 "cells": [
  {
   "cell_type": "code",
   "execution_count": null,
   "id": "51046c4b",
   "metadata": {},
   "outputs": [
    {
     "name": "stdout",
     "output_type": "stream",
     "text": [
      "The sum value of your assets is 7.0\n"
     ]
    }
   ],
   "source": [
    "goldPrice = 80.07\n",
    "silverPrice = 0.88\n",
    "\n",
    "nisab_gold= goldPrice * 87.48\n",
    "nisab_silver = silverPrice * 612.36\n",
    "\n",
    "assets = {\n",
    "    \"Cash\" : float(input(\"Input cash in hand, bank accounts and savings:\")),\n",
    "\"Crypto\" : float(input(\"Input total crypto held for trading or investment:\")),\n",
    "\"Business Inventory\" : float(input(\"Input Business Inventory:\")),\n",
    "\"Stocks\" : float(input(\"Input total value of stocks owned:\")),\n",
    "\"Investment Property\" : float(input(\"Input profits/rent from properties:\")),\n",
    "\"Debts Owed To You\" : float(input(\"Input debts owed to you:\")),\n",
    "\"Precious Metals\" : float(input(\"Input value of gold and silver (and any other jewellery):\"))\n",
    "}\n",
    "\n",
    "\n",
    "liabilities=float(input(\"Input total value of liabilities:\"))\n",
    "\n",
    "total_assets = sum(assets.values())\n",
    "\n",
    "zakatable_wealth= total_assets-liabilities\n",
    "\n",
    "print(f\"The sum value of your assets is {zakatable_wealth}\")\n",
    "\n",
    "if zakatable_wealth >= nisab_gold and zakatable_wealth >= nisab_silver:\n",
    "    zakat= 0.025 * zakatable_wealth\n",
    "    print(f\"your Zakat for this year is {zakat}\")\n",
    "else: \n",
    "    print(\"Your total wealth is below the Nisab, hence you are illegible to give Zakat.\")\n",
    "\n",
    "\n",
    "\n",
    "\n",
    "\n"
   ]
  },
  {
   "cell_type": "code",
   "execution_count": null,
   "id": "b84f825f",
   "metadata": {},
   "outputs": [
    {
     "ename": "SyntaxError",
     "evalue": "invalid syntax (298173314.py, line 4)",
     "output_type": "error",
     "traceback": [
      "  \u001b[36mCell\u001b[39m\u001b[36m \u001b[39m\u001b[32mIn[7]\u001b[39m\u001b[32m, line 4\u001b[39m\n\u001b[31m    \u001b[39m\u001b[31mpython -m venv .venv\u001b[39m\n              ^\n\u001b[31mSyntaxError\u001b[39m\u001b[31m:\u001b[39m invalid syntax\n"
     ]
    }
   ],
   "source": [
    "   "
   ]
  }
 ],
 "metadata": {
  "kernelspec": {
   "display_name": "Python 3",
   "language": "python",
   "name": "python3"
  },
  "language_info": {
   "codemirror_mode": {
    "name": "ipython",
    "version": 3
   },
   "file_extension": ".py",
   "mimetype": "text/x-python",
   "name": "python",
   "nbconvert_exporter": "python",
   "pygments_lexer": "ipython3",
   "version": "3.12.4"
  }
 },
 "nbformat": 4,
 "nbformat_minor": 5
}
